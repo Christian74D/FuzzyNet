{
  "cells": [
    {
      "cell_type": "code",
      "execution_count": null,
      "metadata": {
        "id": "FsEvme9cSI4e"
      },
      "outputs": [],
      "source": [
        "#importing path from drive\n",
        "folder_path = '/content/drive/MyDrive/data/'\n",
        "#!ls {folder_path}"
      ]
    },
    {
      "cell_type": "code",
      "execution_count": null,
      "metadata": {
        "colab": {
          "base_uri": "https://localhost:8080/"
        },
        "id": "OXlSwXLqSOtx",
        "outputId": "de411ada-694d-4677-8f99-f0947dc0e0f8"
      },
      "outputs": [
        {
          "output_type": "stream",
          "name": "stdout",
          "text": [
            "   age        TSH   T3    TT4   T4U    FTI  target_encoded\n",
            "0   61   9.799999  1.2  114.0  0.84  136.0               3\n",
            "1   27  90.000000  0.4    7.5  0.94    7.5               2\n",
            "2   40  70.000000  0.4    3.9  0.83    5.0               2\n",
            "3   57   0.250000  4.2  236.0  0.70  337.0               0\n",
            "4   44   8.400000  1.8  108.0  1.01  107.0               3\n"
          ]
        }
      ],
      "source": [
        "import pandas as pd\n",
        "file_path = folder_path + 'thyroid_cleaned_num.csv'\n",
        "df = pd.read_csv(file_path)\n",
        "\n",
        "print(df.head())"
      ]
    },
    {
      "cell_type": "code",
      "execution_count": null,
      "metadata": {
        "colab": {
          "base_uri": "https://localhost:8080/"
        },
        "id": "2LrIOOwvSchn",
        "outputId": "73a4a96a-634b-402c-f4e1-758b91b09f28"
      },
      "outputs": [
        {
          "output_type": "stream",
          "name": "stdout",
          "text": [
            "$input tensor([0.0000, 1.0000, 3.0000, 5.0000, 4.7000, 2.9000], requires_grad=True)\n",
            "$output (tensor(1), tensor([0.5581, 0.5940, 0.5530, 0.5444], grad_fn=<DivBackward0>))\n"
          ]
        }
      ],
      "source": [
        "import numpy as np\n",
        "import torch\n",
        "import torch.nn as nn\n",
        "import torch.nn.functional as F\n",
        "\n",
        "\n",
        "def diffble_argmax(input, beta=100):\n",
        "    *_, n = input.shape\n",
        "    input = nn.functional.softmax(beta * input, dim=-1)\n",
        "    indices = torch.linspace(0, 1, n)\n",
        "    result = torch.sum((n - 1) * input * indices, dim=-1)\n",
        "    return result\n",
        "\n",
        "torch.manual_seed(42)\n",
        "\n",
        "class DecisionMaker:\n",
        "    def __init__(self, criteria, alternatives):\n",
        "        self.no_criteria = len(criteria)\n",
        "        self.no_alternatives = len(alternatives)\n",
        "        self.criteria = criteria\n",
        "        self.alternatives = alternatives\n",
        "        self.reinit()\n",
        "\n",
        "    def reinit(self):\n",
        "        self.weights = torch.empty(1, self.no_criteria, 3)\n",
        "        self.tuple_mat = torch.empty(self.no_alternatives, self.no_criteria, 3)\n",
        "        self.tuple_weights = torch.empty(1, self.no_criteria, 3)\n",
        "        self.matrix = torch.empty(self.no_alternatives, self.no_criteria, dtype=torch.long)\n",
        "\n",
        "\n",
        "    def set_ip(self):\n",
        "        for i in range(self.no_alternatives):\n",
        "            for j in range(self.no_criteria):\n",
        "                entry = self.matrix[j][i].unsqueeze(0)\n",
        "                new_entry = torch.cat((entry + 1, entry + 2, entry + 3))\n",
        "                self.tuple_mat[i][j] = new_entry\n",
        "\n",
        "\n",
        "        self.load_weights()\n",
        "\n",
        "    def load_weights(self):\n",
        "      for k in range(self.no_criteria):\n",
        "            self.tuple_weights[0][k] = torch.tensor((k+1, k +2, k + 3))\n",
        "\n",
        "    def load_comb_weights(self):\n",
        "      for k in range(self.no_criteria):\n",
        "            m = torch.round(self.weights[k] * 10).unsqueeze(0)\n",
        "            m = torch.cat((m, m+1, m+2), 0)\n",
        "            self.tuple_weights[0][k] = m\n",
        "\n",
        "\n",
        "\n",
        "\n",
        "    def display_state(self):\n",
        "        print(self.matrix.t())\n",
        "\n",
        "    def display_weights(self):\n",
        "        print(self.weights)\n",
        "\n",
        "class FuzzyTopsis:\n",
        "    def __init__(self, criteria, alternatives, no_dms):\n",
        "        self.no_criteria = len(criteria)\n",
        "        self.no_alternatives = len(alternatives)\n",
        "        self.criteria = criteria\n",
        "        self.alternatives = alternatives\n",
        "        self.no_dms = no_dms\n",
        "        self.combined_dm = None\n",
        "        self.dms = [DecisionMaker(criteria, alternatives) for _ in range(no_dms)]\n",
        "        self.fpis = self.fnis = None\n",
        "        self.inputs = None\n",
        "        self.display = False\n",
        "\n",
        "\n",
        "    def calc_fpis_fnis_mats(self):\n",
        "        self.fpis = torch.empty(self.no_alternatives, self.no_criteria)\n",
        "        self.fnis = torch.empty(self.no_alternatives, self.no_criteria)\n",
        "        for i, col in enumerate(self.combined_dm.tuple_mat):\n",
        "            Ap = col[0]\n",
        "            An = col[0]\n",
        "            for entry in col:\n",
        "                if torch.gt(entry, Ap).any():\n",
        "                    Ap = entry\n",
        "                if torch.lt(entry, An).any():\n",
        "                    An = entry\n",
        "            fp = fuzzy_dist(Ap.unsqueeze(0), col)\n",
        "            fn = fuzzy_dist(An.unsqueeze(0), col)\n",
        "\n",
        "            self.fpis[i] = fp\n",
        "            self.fnis[i] = fn\n",
        "\n",
        "\n",
        "    def display_fnis_fpis(self):\n",
        "        print(\"fpis weighted mat\")\n",
        "        print(self.fpis)\n",
        "        print(\"fnis weighted mat\")\n",
        "        print(self.fnis)\n",
        "\n",
        "    def display_state_mat(self):\n",
        "        for i, dm in enumerate(self.dms):\n",
        "            print(\"Decision Maker \", i)\n",
        "            dm.display_state()\n",
        "\n",
        "    def display_weight_comb(self):\n",
        "        print(\"Decision Makers combined weights\")\n",
        "        self.combined_dm.display_weights()\n",
        "\n",
        "    def apply_weights(self):\n",
        "        temp = torch.cat((self.combined_dm.tuple_weights,self.combined_dm.tuple_weights,self.combined_dm.tuple_weights,self.combined_dm.tuple_weights), 0)\n",
        "        self.combined_dm.tuple_mat = torch.mul(temp, self.combined_dm.tuple_mat)\n",
        "\n",
        "    def normalize(self):\n",
        "        min_set = torch.max(self.combined_dm.tuple_mat[:, :, 2], dim=0)[0].unsqueeze(0).unsqueeze(2)\n",
        "        self.combined_dm.tuple_mat = torch.div(self.combined_dm.tuple_mat, min_set)\n",
        "\n",
        "\n",
        "\n",
        "    def calc_cci(self):\n",
        "        dip = torch.sum(self.fpis, dim=1)\n",
        "        din = torch.sum(self.fnis, dim=1)\n",
        "        self.cci = din / (din + dip)\n",
        "\n",
        "    def aggregate(self):\n",
        "        for i in range(self.no_alternatives):\n",
        "            for j in range(self.no_criteria):\n",
        "                min_vals = [dm.tuple_mat[i][j][0] for dm in self.dms]\n",
        "                self.combined_dm.tuple_mat[i][j][0] = torch.min(torch.stack(min_vals))\n",
        "\n",
        "                avg_vals = [dm.tuple_mat[i][j][1] for dm in self.dms]\n",
        "                self.combined_dm.tuple_mat[i][j][1] = torch.mean(torch.stack(avg_vals))\n",
        "\n",
        "                max_vals = [dm.tuple_mat[i][j][2] for dm in self.dms]\n",
        "                self.combined_dm.tuple_mat[i][j][2] = torch.max(torch.stack(max_vals))\n",
        "\n",
        "\n",
        "    def eval(self):\n",
        "        self.aggregate()\n",
        "        if self.display:\n",
        "          print()\n",
        "          self.display_state_mat()\n",
        "          print()\n",
        "          self.display_weight_comb()\n",
        "          print()\n",
        "\n",
        "        self.normalize()\n",
        "        self.apply_weights()\n",
        "        self.calc_fpis_fnis_mats()\n",
        "        self.calc_cci()\n",
        "        max_index = torch.argmax(self.cci)\n",
        "        return max_index, self.cci[max_index], self.cci\n",
        "\n",
        "\n",
        "    def update_matrices(self, model_output, weights):\n",
        "        self.inputs = model_output\n",
        "        self.combined_dm = DecisionMaker(self.criteria, self.alternatives)\n",
        "        for i, matrix_output in enumerate(model_output):\n",
        "            dm = self.dms[i]\n",
        "            dm.reinit()\n",
        "            dm.matrix = matrix_output\n",
        "            dm.set_ip()\n",
        "\n",
        "\n",
        "        self.combined_dm.weights = weights\n",
        "        self.combined_dm.load_comb_weights()\n",
        "\n",
        "\n",
        "def fuzzy_dist(a, b):\n",
        "    return torch.sqrt(torch.mean((a - b) ** 2))\n",
        "\n",
        "\n",
        "class DeepQNetFuzzy(nn.Module):\n",
        "    def __init__(self, num_networks=6):\n",
        "        super().__init__()\n",
        "        self.num_networks = num_networks\n",
        "        self.networks = nn.ModuleList([self.create_network() for _ in range(num_networks)])\n",
        "        self.ft = ft = FuzzyTopsis(column_names, range(no_classes), 1)\n",
        "        self.weights = nn.Linear(1, 6)\n",
        "\n",
        "    def display(self, val):\n",
        "      self.ft.display = val\n",
        "\n",
        "    def create_network(self):\n",
        "        return nn.Sequential(\n",
        "            nn.Linear(1, 8),\n",
        "            nn.ReLU(),\n",
        "            nn.Linear(8, 8),\n",
        "            nn.ReLU(),\n",
        "            nn.Linear(8, 4)\n",
        "        )\n",
        "\n",
        "    def forward(self, x, dummy):\n",
        "      y = torch.tensor([])\n",
        "      for i, network in enumerate(self.networks):\n",
        "          z = x[i].unsqueeze(0)\n",
        "          outputs = network(z)\n",
        "\n",
        "          predicted_classes = torch.sigmoid(outputs) * 5\n",
        "          y = torch.cat((y, predicted_classes.unsqueeze(0)),0)\n",
        "\n",
        "      y = y.unsqueeze(dim = 0)\n",
        "      weights = self.weights(dummy)\n",
        "\n",
        "      self.ft.update_matrices(y, weights)\n",
        "\n",
        "\n",
        "\n",
        "      max_index, cci_max, cci_list = self.ft.eval()\n",
        "      return max_index, cci_list\n",
        "\n",
        "\n",
        "target_class = 'target_encoded'\n",
        "no_classes = df[target_class].max() + 1\n",
        "\n",
        "column_names = df.columns.tolist()\n",
        "if target_class in column_names:\n",
        "  column_names.remove(target_class)\n",
        "\n",
        "mod = DeepQNetFuzzy()\n",
        "\n",
        "dummy = torch.tensor([1.0], requires_grad = True)\n",
        "\n",
        "ip = torch.tensor([0, 1, 3, 5, 4.7, 2.9], requires_grad=True)\n",
        "print(\"$input\", ip)\n",
        "op = mod(ip, dummy)\n",
        "print(\"$output\", op)"
      ]
    },
    {
      "cell_type": "code",
      "execution_count": null,
      "metadata": {
        "id": "5QJfTcZ-3lT6"
      },
      "outputs": [],
      "source": []
    },
    {
      "cell_type": "code",
      "source": [
        "import pandas as pd\n",
        "import torch\n",
        "import torch.nn as nn\n",
        "import torch.optim as optim\n",
        "from torch.utils.data import DataLoader, Dataset\n",
        "from sklearn.model_selection import train_test_split\n",
        "from sklearn.preprocessing import StandardScaler\n",
        "from tqdm import tqdm\n",
        "\n",
        "# Step 1: Data Preprocessing\n",
        "file_path = folder_path + 'thyroid_cleaned_num.csv'\n",
        "df = pd.read_csv(file_path)\n",
        "\n",
        "# Feature columns (X) and target column (y)\n",
        "X = df.drop(columns=['target_encoded']).values\n",
        "y = df['target_encoded'].values\n",
        "\n",
        "# Standardize the features\n",
        "scaler = StandardScaler()\n",
        "X = scaler.fit_transform(X)\n",
        "# Split data into train and test sets\n",
        "X_train, X_test, y_train, y_test = train_test_split(X, y, test_size=0.2, random_state=42)\n",
        "\n",
        "# Step 2: Create Dataset and DataLoader\n",
        "class ThyroidDataset(Dataset):\n",
        "    def __init__(self, X, y):\n",
        "        self.X = torch.tensor(X, dtype=torch.float32)\n",
        "        self.y = torch.tensor(y, dtype=torch.long)\n",
        "\n",
        "    def __len__(self):\n",
        "        return len(self.X)\n",
        "\n",
        "    def __getitem__(self, idx):\n",
        "        return self.X[idx], self.y[idx]\n",
        "\n",
        "batch_size = 1\n",
        "train_dataset = ThyroidDataset(X_train, y_train)\n",
        "test_dataset = ThyroidDataset(X_test, y_test)\n",
        "train_loader = DataLoader(train_dataset, batch_size=batch_size, shuffle=True)\n",
        "test_loader = DataLoader(test_dataset, batch_size=batch_size, shuffle=False)\n",
        "\n",
        "\n",
        "# Step 4: Define Loss Function and Optimizer\n",
        "device = torch.device(\"cuda\" if torch.cuda.is_available() else \"cpu\")\n",
        "device = \"cpu\"\n",
        "model = DeepQNetFuzzy()\n",
        "model.to(device)\n",
        "dummy = dummy.to(device)\n",
        "\n",
        "\n",
        "loss_list = []\n",
        "criterion = nn.CrossEntropyLoss()\n",
        "optimizer = optim.Adam(model.parameters(), lr=0.0025)#.005"
      ],
      "metadata": {
        "id": "t14JBr4Bu4bj"
      },
      "execution_count": null,
      "outputs": []
    },
    {
      "cell_type": "code",
      "source": [
        "import torch\n",
        "from torch.utils.data import DataLoader, WeightedRandomSampler\n",
        "\n",
        "# Assuming train_dataset is your training dataset\n",
        "\n",
        "# Calculate class weights\n",
        "class_counts = {}  # Dictionary to store counts of each class\n",
        "for _, label in train_dataset:\n",
        "    label = label.item()  # Convert tensor label to integer\n",
        "    class_counts[label] = class_counts.get(label, 0) + 1\n",
        "\n",
        "print(class_counts)\n",
        "\n",
        "\n",
        "class_weights = [1.0 / class_counts[label.item()]**3  for _, label in train_dataset]\n",
        "\n",
        "# Calculate weights for each sample\n",
        "weights = [class_weights[label.item()] for _, label in train_dataset]\n",
        "\n",
        "# Create sampler\n",
        "sampler = WeightedRandomSampler(weights, len(train_dataset), replacement=True)\n",
        "\n",
        "# Define other DataLoader parameters\n",
        "batch_size = 1\n",
        "shuffle = False  # Shuffle is handled by the sampler\n",
        "\n",
        "# Create DataLoader with the sampler\n",
        "train_loader = DataLoader(train_dataset, batch_size=batch_size, sampler=sampler)\n",
        "\n",
        "\n"
      ],
      "metadata": {
        "colab": {
          "base_uri": "https://localhost:8080/"
        },
        "id": "U7Y5LkcmcOJk",
        "outputId": "495e217c-59b6-4877-a6a9-04a667968e7e"
      },
      "execution_count": null,
      "outputs": [
        {
          "output_type": "stream",
          "name": "stdout",
          "text": [
            "{3: 162, 2: 133, 0: 79, 1: 13}\n"
          ]
        }
      ]
    },
    {
      "cell_type": "code",
      "source": [
        "\n",
        "# Initialize a dictionary to store class counts\n",
        "class_counts_loader = {label: 0 for label in range(4)}  # Assuming num_classes is the total number of classes\n",
        "\n",
        "# Iterate through the data loader batches\n",
        "for batch_data, batch_labels in train_loader:\n",
        "    # Calculate class counts within the current batch\n",
        "    for label in batch_labels:\n",
        "        label = label.item()  # Convert tensor label to integer\n",
        "        class_counts_loader[label] += 1  # Increment the count for the corresponding class label\n",
        "\n",
        "# Print class counts\n",
        "print(\"Class Counts in the Loader:\")\n",
        "for label, count in class_counts_loader.items():\n",
        "    print(f\"Class {label}: {count}\")"
      ],
      "metadata": {
        "colab": {
          "base_uri": "https://localhost:8080/"
        },
        "id": "QL7xaKfFhpWL",
        "outputId": "afae9fcd-ee9f-4a4c-b92e-de7d2846f32c"
      },
      "execution_count": null,
      "outputs": [
        {
          "output_type": "stream",
          "name": "stdout",
          "text": [
            "Class Counts in the Loader:\n",
            "Class 0: 87\n",
            "Class 1: 14\n",
            "Class 2: 111\n",
            "Class 3: 175\n"
          ]
        }
      ]
    },
    {
      "cell_type": "code",
      "source": [
        "# Step 5: Training Loop\n",
        "num_epochs = 3\n",
        "\n",
        "for epoch in range(num_epochs):\n",
        "    model.train()\n",
        "    running_loss = 0.0\n",
        "\n",
        "    for inputs, labels in tqdm(train_loader, desc=f'Epoch {epoch+1}/{num_epochs}', leave=False):\n",
        "        inputs, labels = inputs.to(device), labels.to(device)  # Move data to device\n",
        "        optimizer.zero_grad()\n",
        "        _, outputs = model(inputs.squeeze(), dummy)\n",
        "        outputs = outputs.unsqueeze(0)\n",
        "        loss = criterion(outputs, labels)\n",
        "        loss.backward()\n",
        "        optimizer.step()\n",
        "        running_loss += loss.item() * inputs.size(0)\n",
        "        loss_list.append(loss.item())\n",
        "\n",
        "\n",
        "\n",
        "    epoch_loss = running_loss / len(train_loader.dataset)\n",
        "    print(f\"Epoch [{epoch+1}/{num_epochs}], Loss: {epoch_loss:.4f}\")"
      ],
      "metadata": {
        "colab": {
          "base_uri": "https://localhost:8080/"
        },
        "id": "VMhVI1U74wbZ",
        "outputId": "012868f1-e26a-46e4-831a-b6974185f347"
      },
      "execution_count": null,
      "outputs": [
        {
          "output_type": "stream",
          "name": "stderr",
          "text": []
        },
        {
          "output_type": "stream",
          "name": "stdout",
          "text": [
            "Epoch [1/3], Loss: 1.3642\n"
          ]
        },
        {
          "output_type": "stream",
          "name": "stderr",
          "text": []
        },
        {
          "output_type": "stream",
          "name": "stdout",
          "text": [
            "Epoch [2/3], Loss: 1.3359\n"
          ]
        },
        {
          "output_type": "stream",
          "name": "stderr",
          "text": [
            "                                                            "
          ]
        },
        {
          "output_type": "stream",
          "name": "stdout",
          "text": [
            "Epoch [3/3], Loss: 1.3188\n"
          ]
        },
        {
          "output_type": "stream",
          "name": "stderr",
          "text": [
            "\r"
          ]
        }
      ]
    },
    {
      "cell_type": "code",
      "source": [
        "import matplotlib.pyplot as plt\n",
        "\n",
        "# Example loss list and epochs\n",
        "epochs = range(1, len(loss_list) + 1)\n",
        "\n",
        "# Plot loss vs epochs\n",
        "plt.plot(epochs, loss_list, marker='o', linestyle='-')\n",
        "plt.xlabel('Epochs')\n",
        "plt.ylabel('Loss')\n",
        "plt.title('Loss vs Epochs')\n",
        "plt.grid(True)\n",
        "plt.show()\n"
      ],
      "metadata": {
        "colab": {
          "base_uri": "https://localhost:8080/",
          "height": 472
        },
        "id": "nO9lu-nDwsTd",
        "outputId": "99db6dd7-5c7c-4e78-8ac1-e3b264744cfb"
      },
      "execution_count": null,
      "outputs": [
        {
          "output_type": "display_data",
          "data": {
            "text/plain": [
              "<Figure size 640x480 with 1 Axes>"
            ],
            "image/png": "[encoded data removed]"
          },
          "metadata": {}
        }
      ]
    },
    {
      "cell_type": "code",
      "source": [
        "from sklearn.metrics import confusion_matrix\n",
        "import numpy as np\n",
        "\n",
        "# Initialize lists to store true labels and predicted labels\n",
        "true_labels = []\n",
        "pred_labels = []\n",
        "\n",
        "# Set the model to evaluation mode\n",
        "model.eval()\n",
        "model.display(False)\n",
        "total = 0\n",
        "correct = 0\n",
        "\n",
        "# Iterate through the test DataLoader to get predictions\n",
        "with torch.no_grad():\n",
        "    for inputs, labels in test_loader:\n",
        "        _, outputs = model(inputs.squeeze(), dummy)\n",
        "        outputs = outputs.unsqueeze(0)\n",
        "\n",
        "        _, predicted = torch.max(outputs.data, 1)\n",
        "        true_labels.extend(labels.numpy())\n",
        "        pred_labels.extend(predicted.numpy())\n",
        "        total += labels.size(0)\n",
        "        correct += (predicted == labels).sum().item()\n",
        "\n",
        "# Convert lists to numpy arrays\n",
        "true_labels = np.array(true_labels)\n",
        "pred_labels = np.array(pred_labels)\n",
        "\n",
        "# Compute confusion matrix\n",
        "conf_matrix = confusion_matrix(true_labels, pred_labels)\n",
        "\n",
        "print(\"Confusion Matrix:\")\n",
        "print(conf_matrix)\n",
        "\n",
        "# Compute accuracy\n",
        "accuracy = 100 * correct / total\n",
        "print(f\"Accuracy on test set: {accuracy:.2f}%\")\n"
      ],
      "metadata": {
        "colab": {
          "base_uri": "https://localhost:8080/"
        },
        "id": "NVVaR75qznFi",
        "outputId": "b02b9c2f-3144-421a-9023-08611b6dc70e"
      },
      "execution_count": null,
      "outputs": [
        {
          "output_type": "stream",
          "name": "stdout",
          "text": [
            "Confusion Matrix:\n",
            "[[14  0  0  0]\n",
            " [ 3  0  0  0]\n",
            " [ 0  0 18 13]\n",
            " [ 0  0  0 49]]\n",
            "Accuracy on test set: 83.51%\n"
          ]
        }
      ]
    },
    {
      "cell_type": "code",
      "source": [
        "model"
      ],
      "metadata": {
        "colab": {
          "base_uri": "https://localhost:8080/"
        },
        "id": "hCdpQVDn243f",
        "outputId": "647c32e6-90e0-4a35-fdd6-3ad2d12b2795"
      },
      "execution_count": null,
      "outputs": [
        {
          "output_type": "execute_result",
          "data": {
            "text/plain": [
              "DeepQNetFuzzy(\n",
              "  (networks): ModuleList(\n",
              "    (0-5): 6 x Sequential(\n",
              "      (0): Linear(in_features=1, out_features=8, bias=True)\n",
              "      (1): ReLU()\n",
              "      (2): Linear(in_features=8, out_features=8, bias=True)\n",
              "      (3): ReLU()\n",
              "      (4): Linear(in_features=8, out_features=4, bias=True)\n",
              "    )\n",
              "  )\n",
              "  (weights): Linear(in_features=1, out_features=6, bias=True)\n",
              ")"
            ]
          },
          "metadata": {},
          "execution_count": 14
        }
      ]
    },
    {
      "cell_type": "code",
      "source": [],
      "metadata": {
        "id": "FRdf1FVX238C"
      },
      "execution_count": null,
      "outputs": []
    }
  ],
  "metadata": {
    "colab": {
      "provenance": [],
      "gpuType": "T4"
    },
    "kernelspec": {
      "display_name": "Python 3",
      "name": "python3"
    },
    "language_info": {
      "name": "python"
    },
    "accelerator": "GPU"
  },
  "nbformat": 4,
  "nbformat_minor": 0
}